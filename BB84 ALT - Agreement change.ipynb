{
 "cells": [
  {
   "cell_type": "code",
   "execution_count": 1,
   "id": "916b624c-09c9-47a2-84dc-880c379c36b1",
   "metadata": {},
   "outputs": [],
   "source": [
    "import numpy as np\n",
    "# Importing standard Qiskit libraries\n",
    "from qiskit import QuantumCircuit, transpile, Aer, IBMQ, ClassicalRegister, QuantumRegister, execute\n",
    "from qiskit.tools.jupyter import *\n",
    "from qiskit.visualization import *\n",
    "from ibm_quantum_widgets import *\n",
    "\n",
    "# Loading your IBM Quantum account(s)\n",
    "provider = IBMQ.load_account()\n",
    "provider = IBMQ.get_provider(hub='ibm-q-research', group='uni-basque-cou-1', project='main')\n",
    "\n",
    "#mock backends and tools\n",
    "from qiskit.test import mock\n",
    "from qiskit.test.mock.backends import * #FakeVigo, FakeMontreal #FakeManhattan\n",
    "from inspect import getmembers, isclass\n",
    "\n",
    "\"\"\" Imports to Python functions \"\"\"\n",
    "import math\n",
    "import array\n",
    "import fractions\n",
    "import numpy as np\n",
    "import sys\n",
    "import random\n",
    "import time\n",
    "\n",
    "import csv\n",
    "import matplotlib.pyplot as plt"
   ]
  },
  {
   "cell_type": "code",
   "execution_count": 2,
   "id": "b6118e0c-e02d-44ec-bc53-0ff9a35df2d5",
   "metadata": {},
   "outputs": [],
   "source": [
    "def encode(a,b,m,qR):\n",
    "    if a == 1:\n",
    "        m.x(qR[0])\n",
    "    if b == 1:\n",
    "        m.h(qR[0])\n",
    "    return m\n",
    "    \n",
    "def decode(b,m,qR):\n",
    "    if b == 1:\n",
    "        m.h(qR[0]) #Deshacer hadamard\n",
    "    return m\n",
    "\n",
    "def agree(key1,key2,r,avg_diff,e=1):\n",
    "    if len(key1)<2:\n",
    "        return [False, \"Key too short\", key1, key2]\n",
    "    diff = 0\n",
    "    \n",
    "    m = len(key1)\n",
    "    t = math.ceil(m/r)\n",
    "    selection = random.sample(range(t),t-1)\n",
    "    \n",
    "    for i in selection:\n",
    "        if key1[i] == key2[i]:\n",
    "            continue\n",
    "        else:\n",
    "            diff += 1\n",
    "            \n",
    "    #for i in selection:\n",
    "        # these bits are public: discard them for the final key generation\n",
    "    #    print(i)\n",
    "    #    key1.pop(i)\n",
    "    #    key2.pop(i)\n",
    "    key1 = [v for i, v in enumerate(key1) if i not in selection]\n",
    "    key2 = [v for i, v in enumerate(key2) if i not in selection]\n",
    "        \n",
    "    if diff > e*avg_diff:\n",
    "        state = False\n",
    "    else:\n",
    "        state = True\n",
    "            \n",
    "    return [state, diff, key1, key2]\n",
    "\n",
    "def bb84_shot(a_A,EVE,server):\n",
    "    qm = QuantumRegister(1)\n",
    "    cm = ClassicalRegister(1)\n",
    "\n",
    "    m_A  = QuantumCircuit(qm,cm)\n",
    "    m_B  = QuantumCircuit(qm,cm)\n",
    "    \n",
    "    b_A = np.random.randint(0,2)\n",
    "    b_B = np.random.randint(0,2)\n",
    "\n",
    "    encode(a_A,b_A,m_A,qm)\n",
    "    \n",
    "    if EVE==1:\n",
    "        m_E  = QuantumCircuit(qm,cm)\n",
    "        b_E  = np.random.randint(0,2)\n",
    "        m_E = m_A\n",
    "    \n",
    "        decode(b_E,m_E,qm)\n",
    "        m_E.measure(qm,cm)\n",
    "        m_E_exec = execute(m_E,server,shots=n_shots).result().get_counts(m_E)\n",
    "        a_E = int(list(m_E_exec.keys())[0])\n",
    "        m_A = encode(a_E,b_E,m_E,qm)\n",
    "        \n",
    "    m_B = m_A\n",
    "    decode(b_B,m_B,qm)\n",
    "        \n",
    "    m_B.measure(qm,cm)\n",
    "    m_B_exec = execute(m_B,server,shots=n_shots).result().get_counts(m_B)\n",
    "    a_B=int(list(m_B_exec.keys())[0])\n",
    "    \n",
    "    return a_B,b_A,b_B\n",
    "\n",
    "def bb84_qcom(n,Eve,server):\n",
    "    a_Alice = []\n",
    "    a_Bob   = []\n",
    "    b_Alice = []\n",
    "    b_Bob   = []\n",
    "    for i in range(n):\n",
    "        a_A = np.random.randint(0,2)\n",
    "        comm = bb84_shot(a_A,Eve[i],server)\n",
    "        a_Alice.append(a_A)\n",
    "        a_Bob.append(comm[0])\n",
    "        b_Alice.append(comm[1])\n",
    "        b_Bob.append(comm[2])\n",
    "        \n",
    "    return[a_Alice,a_Bob,b_Alice,b_Bob]\n",
    "\n",
    "def bb84(N,Eve,avg_diff,server,r=3):\n",
    "    key_Alice = []\n",
    "    key_Bob   = []\n",
    "\n",
    "    # QUANTUM COMMUNICATION PHASE\n",
    "    qcom_result = bb84_qcom(N,Eve,server)\n",
    "\n",
    "    a_Alice = qcom_result[0]\n",
    "    a_Bob   = qcom_result[1]\n",
    "    b_Alice = qcom_result[2]\n",
    "    b_Bob   = qcom_result[3]\n",
    "\n",
    "    # AGREEMENT PHASE: compare bases\n",
    "    for i in range(len(a_Bob)):\n",
    "        if b_Bob[i] == b_Alice[i]:\n",
    "            key_Alice.append(a_Alice[i])\n",
    "            key_Bob.append(int(a_Bob[i]))\n",
    "\n",
    "    # AGREEMENT PHASE: compare bits\n",
    "    final = agree(key_Alice,key_Bob,r,avg_diff,1)\n",
    "\n",
    "    #if not final[0]:\n",
    "    #    print(\"Eavesdropper detected!\")\n",
    "\n",
    "    return final #[state, diff, key1, key2]\n",
    "\n",
    "def calibrate(N_test,server,r=3):\n",
    "    Eve_test = N_test*[0]\n",
    "\n",
    "    avg = 0\n",
    "    for i in range(10):\n",
    "        test = bb84(N_test,Eve_test,0,server,r)\n",
    "        if test[0]:\n",
    "            avg += test[1]\n",
    "\n",
    "    avg = 0.1*avg/N_test\n",
    "    return avg"
   ]
  },
  {
   "cell_type": "code",
   "execution_count": 7,
   "id": "e47a6aec-9c7c-493f-a3b3-bb23067cd417",
   "metadata": {},
   "outputs": [],
   "source": [
    "def test_r(server,n_eve,Eve,r_list):\n",
    "    for r in r_list:\n",
    "        data=open(\"BB84_COMP_\"+str(server)+\"_\"+str(n_eve)+\"_\"+str(r)+\".txt\",mode)\n",
    "\n",
    "        data.write(str(server))\n",
    "        data.write('\\n'+str(r))\n",
    "        data.write('\\nEVE: {0}'.format(str(Eve)))\n",
    "\n",
    "        avg_diff = calibrate(math.floor(nq/3),simulator,r)\n",
    "\n",
    "        #print(\"\\nAverage disagreement in keys with no Eve: {0}.\".format(avg_diff))\n",
    "        data.write(\"\\nAverage disagreement in keys with no Eve: {0}.\\n\".format(avg_diff))\n",
    "\n",
    "        failure_list = []\n",
    "        success_list = []\n",
    "        for i in range(tries):\n",
    "            result_bb84 = bb84(nq,Eve,avg_diff,server,r)\n",
    "            if result_bb84[0]:\n",
    "                success_list.append(result_bb84[2])\n",
    "                success_list.append(result_bb84[3])\n",
    "            else:\n",
    "                failure_list.append(result_bb84[1])\n",
    "\n",
    "        #print(\"The protocol succeeded in {0}% of cases.\".format(len(success_list)/tries*50))\n",
    "        data.write(\"{0}%\\n\".format(len(success_list)/tries*50))\n",
    "        for key in success_list:\n",
    "            for i in key:\n",
    "                data.write(str(i))\n",
    "            data.write('\\n')\n",
    "            \n",
    "    data.close()\n",
    "    \n",
    "def extract_data_r(server,n_eve,r_list):\n",
    "    mode = \"r\"\n",
    "    data_matrix = []\n",
    "\n",
    "    for i_r in range(len(r_list)):\n",
    "        data=open(\"BB84_COMP_\"+str(server)+\"_\"+str(n_eve)+\"_\"+str(r_list[i_r])+\".txt\",mode)\n",
    "        content = data.readlines()\n",
    "\n",
    "        server_data = content[0][:-1]\n",
    "        r_data      = content[1][:-1]\n",
    "        Eve_data    = content[2][:-1]\n",
    "        diff_data   = content[3][:-1]\n",
    "        valid_rate  = content[4][:-1]\n",
    "\n",
    "        content = content[5:]\n",
    "\n",
    "        print(\"R:\",r_data)\n",
    "        print(valid_rate)\n",
    "\n",
    "        if len(content) < 1: # If file has no keys, skip calculations\n",
    "            print(\"No keys found!\\n\")\n",
    "            continue\n",
    "\n",
    "        rate = 0\n",
    "        len_list = []\n",
    "\n",
    "        for l in range(0,len(content)-1,2):\n",
    "            line_1 = list(content[l])[:-1]\n",
    "            line_2 = list(content[l+1])[:-1]\n",
    "\n",
    "            len_list.append(len(line_1))\n",
    "\n",
    "            correct = 0\n",
    "            incorrect = 0\n",
    "            for i in range(len(line_1)):\n",
    "                if line_1[i] == line_2[i]:\n",
    "                    correct += 1\n",
    "                else:\n",
    "                    incorrect += 1\n",
    "            rate = rate+(correct/len(line_1))\n",
    "\n",
    "        avg_rate = rate/len(len_list)\n",
    "        avg_len  = sum(len_list)/len(len_list)\n",
    "        #print(\"Average key agreement rate:\",avg_rate*100)\n",
    "        #print(\"Average key length:\",avg_len)\n",
    "        #print(\"\\n\")\n",
    "        data_matrix.append([server_data,nq,n_eve,valid_rate,avg_len,avg_rate])\n",
    "\n",
    "    # create csv file \n",
    "    with open('BB84_ALT_'+str(n_eve)+'agree.csv', mode='w+') as qkd_file:\n",
    "        qkd_writer = csv.writer(qkd_file, delimiter=',', quotechar='\"')\n",
    "        qkd_writer.writerow([\"Server\",\"Number of qubits\",\"Number of Eve\",\"Eve not detected\",\"Average key length\",\"Average correct % of key\"])\n",
    "        qkd_writer.writerows(data_matrix)"
   ]
  },
  {
   "cell_type": "code",
   "execution_count": 4,
   "id": "5003f2bb-812a-4883-9b7a-0ac058bf5e59",
   "metadata": {},
   "outputs": [],
   "source": [
    "simulator = Aer.get_backend('qasm_simulator')\n",
    "santiago  = provider.get_backend('ibmq_santiago')\n",
    "bogota    = provider.get_backend('ibmq_bogota')\n",
    "\n",
    "fake_bogota = FakeBogota()\n",
    "n_shots = 1 # CHANGE TO EMULATE POSSIBLE PNS ATTACK?\n",
    "\n",
    "server = simulator"
   ]
  },
  {
   "cell_type": "code",
   "execution_count": 9,
   "id": "8926d11d-7939-4d35-a385-3c2161fd2372",
   "metadata": {},
   "outputs": [
    {
     "name": "stdout",
     "output_type": "stream",
     "text": [
      "19 eavesdroppers.\n",
      "R: 2\n",
      "10.0%\n",
      "R: 3\n",
      "26.0%\n",
      "R: 4\n",
      "32.0%\n",
      "R: 5\n",
      "39.0%\n",
      "20 eavesdroppers.\n",
      "R: 2\n",
      "8.0%\n",
      "R: 3\n",
      "24.0%\n",
      "R: 4\n",
      "27.0%\n",
      "R: 5\n",
      "44.0%\n",
      "21 eavesdroppers.\n",
      "R: 2\n",
      "6.0%\n",
      "R: 3\n",
      "11.0%\n",
      "R: 4\n",
      "18.0%\n",
      "R: 5\n",
      "27.0%\n",
      "22 eavesdroppers.\n",
      "R: 2\n",
      "5.0%\n",
      "R: 3\n",
      "17.0%\n",
      "R: 4\n",
      "31.0%\n",
      "R: 5\n",
      "45.0%\n",
      "23 eavesdroppers.\n",
      "R: 2\n",
      "9.0%\n",
      "R: 3\n",
      "15.0%\n",
      "R: 4\n",
      "22.0%\n",
      "R: 5\n",
      "33.0%\n",
      "24 eavesdroppers.\n",
      "R: 2\n",
      "4.0%\n",
      "R: 3\n",
      "8.0%\n",
      "R: 4\n",
      "21.0%\n",
      "R: 5\n",
      "24.0%\n",
      "25 eavesdroppers.\n",
      "R: 2\n",
      "4.0%\n",
      "R: 3\n",
      "9.0%\n",
      "R: 4\n",
      "20.0%\n",
      "R: 5\n",
      "9.0%\n",
      "26 eavesdroppers.\n",
      "R: 2\n",
      "1.0%\n",
      "R: 3\n",
      "4.0%\n",
      "R: 4\n",
      "13.0%\n",
      "R: 5\n",
      "15.0%\n",
      "27 eavesdroppers.\n",
      "R: 2\n",
      "4.0%\n",
      "R: 3\n",
      "20.0%\n",
      "R: 4\n",
      "19.0%\n",
      "R: 5\n",
      "37.0%\n",
      "28 eavesdroppers.\n",
      "R: 2\n",
      "0.0%\n",
      "No keys found!\n",
      "\n",
      "R: 3\n",
      "7.000000000000001%\n",
      "R: 4\n",
      "18.0%\n",
      "R: 5\n",
      "18.0%\n",
      "29 eavesdroppers.\n",
      "R: 2\n",
      "1.0%\n",
      "R: 3\n",
      "7.000000000000001%\n",
      "R: 4\n",
      "11.0%\n",
      "R: 5\n",
      "21.0%\n"
     ]
    }
   ],
   "source": [
    "nq = server.configuration().n_qubits\n",
    "tries = 100\n",
    "mode = \"w+\"\n",
    "\n",
    "r_list = range(2,6)\n",
    "\n",
    "for k in range(19,nq): # Eve incrreases her number of interventions...\n",
    "    Eve = np.array([1]*k + [0]*(nq-k))\n",
    "    np.random.shuffle(Eve)\n",
    "    print(\"{0} eavesdroppers.\".format(k))\n",
    "    test_r(simulator,k,Eve,r_list)\n",
    "    extract_data_r(simulator,k,r_list)"
   ]
  },
  {
   "cell_type": "code",
   "execution_count": null,
   "id": "df84fcf5-e5fe-4476-b448-beff442cb5df",
   "metadata": {},
   "outputs": [],
   "source": []
  },
  {
   "cell_type": "code",
   "execution_count": null,
   "id": "0a96a86c-dc42-4558-b01d-92f28d9f2792",
   "metadata": {},
   "outputs": [],
   "source": []
  }
 ],
 "metadata": {
  "kernelspec": {
   "display_name": "Qiskit v0.30.0 (ipykernel)",
   "language": "python",
   "name": "python3"
  },
  "language_info": {
   "codemirror_mode": {
    "name": "ipython",
    "version": 3
   },
   "file_extension": ".py",
   "mimetype": "text/x-python",
   "name": "python",
   "nbconvert_exporter": "python",
   "pygments_lexer": "ipython3",
   "version": "3.8.10"
  },
  "widgets": {
   "application/vnd.jupyter.widget-state+json": {
    "state": {
     "01aa5619c0634a2c985b45fc832fa56b": {
      "model_module": "@jupyter-widgets/base",
      "model_module_version": "1.2.0",
      "model_name": "LayoutModel",
      "state": {
       "width": "70px"
      }
     },
     "127c73c371c042a7b3857437c595140a": {
      "model_module": "@jupyter-widgets/controls",
      "model_module_version": "1.5.0",
      "model_name": "HTMLModel",
      "state": {
       "layout": "IPY_MODEL_5f4d60201bff48d18e20e0ae6458d534",
       "style": "IPY_MODEL_e00884fbc8c84047aeb8dbc15656212a",
       "value": "<p style='font-family: IBM Plex Sans, Arial, Helvetica, sans-serif; font-size: 20px; font-weight: medium;'>Circuit Properties</p>"
      }
     },
     "15091a96bbe14ff7aa93bb393c45b790": {
      "model_module": "@jupyter-widgets/controls",
      "model_module_version": "1.5.0",
      "model_name": "HTMLModel",
      "state": {
       "layout": "IPY_MODEL_01aa5619c0634a2c985b45fc832fa56b",
       "style": "IPY_MODEL_bf58467e7a90411694153bb67c4ad5eb",
       "value": "<h5>Queue</h5>"
      }
     },
     "186ed65b68bf4a5fba34e31874056e01": {
      "model_module": "@jupyter-widgets/base",
      "model_module_version": "1.2.0",
      "model_name": "LayoutModel",
      "state": {
       "width": "145px"
      }
     },
     "199e37acb11c4a0291204b2e9f72c1ad": {
      "model_module": "@jupyter-widgets/controls",
      "model_module_version": "1.5.0",
      "model_name": "HBoxModel",
      "state": {
       "children": [
        "IPY_MODEL_1c16cd7e65614e4d9b44ef1a53b1006f",
        "IPY_MODEL_e540761c47d04f87a283bf27cf2fe5d3",
        "IPY_MODEL_69530b32a7354ad5a12313e111cab849",
        "IPY_MODEL_15091a96bbe14ff7aa93bb393c45b790",
        "IPY_MODEL_fa62eb2c50d948f187672e09013600b4"
       ],
       "layout": "IPY_MODEL_20ab272eb501493294aedc33dec833fe"
      }
     },
     "1c16cd7e65614e4d9b44ef1a53b1006f": {
      "model_module": "@jupyter-widgets/controls",
      "model_module_version": "1.5.0",
      "model_name": "HTMLModel",
      "state": {
       "layout": "IPY_MODEL_a0cab425b9fa4b5eb675e297e0c676b1",
       "style": "IPY_MODEL_f4e80ae4e69341ffb17070e546a330b6",
       "value": "<h5>Job ID</h5>"
      }
     },
     "20ab272eb501493294aedc33dec833fe": {
      "model_module": "@jupyter-widgets/base",
      "model_module_version": "1.2.0",
      "model_name": "LayoutModel",
      "state": {
       "margin": "0px 0px 0px 37px",
       "width": "600px"
      }
     },
     "425a2a8d08f6455380fe79eaed785b1a": {
      "model_module": "@jupyter-widgets/base",
      "model_module_version": "1.2.0",
      "model_name": "LayoutModel",
      "state": {
       "width": "95px"
      }
     },
     "4990b308f5214740a00b262edfdf2313": {
      "model_module": "@jupyter-widgets/base",
      "model_module_version": "1.2.0",
      "model_name": "LayoutModel",
      "state": {
       "grid_template_areas": "\n                                       \". . . . right \"\n                                        ",
       "grid_template_columns": "20% 20% 20% 20% 20%",
       "width": "100%"
      }
     },
     "547383d7c79242ada3f333c4bea262d4": {
      "model_module": "@jupyter-widgets/controls",
      "model_module_version": "1.5.0",
      "model_name": "DescriptionStyleModel",
      "state": {
       "description_width": ""
      }
     },
     "5f4d60201bff48d18e20e0ae6458d534": {
      "model_module": "@jupyter-widgets/base",
      "model_module_version": "1.2.0",
      "model_name": "LayoutModel",
      "state": {
       "margin": "0px 0px 10px 0px"
      }
     },
     "691c189c989a43ef8d26082073b27546": {
      "model_module": "@jupyter-widgets/controls",
      "model_module_version": "1.5.0",
      "model_name": "ButtonStyleModel",
      "state": {}
     },
     "69530b32a7354ad5a12313e111cab849": {
      "model_module": "@jupyter-widgets/controls",
      "model_module_version": "1.5.0",
      "model_name": "HTMLModel",
      "state": {
       "layout": "IPY_MODEL_425a2a8d08f6455380fe79eaed785b1a",
       "style": "IPY_MODEL_547383d7c79242ada3f333c4bea262d4",
       "value": "<h5>Status</h5>"
      }
     },
     "706b0a2b90cb41aab54f8ca78f1f2c0b": {
      "model_module": "@jupyter-widgets/controls",
      "model_module_version": "1.5.0",
      "model_name": "ButtonModel",
      "state": {
       "button_style": "primary",
       "description": "Clear",
       "layout": "IPY_MODEL_cfb8c9ab384b4a95bbacb09f4bab431d",
       "style": "IPY_MODEL_691c189c989a43ef8d26082073b27546"
      }
     },
     "a0cab425b9fa4b5eb675e297e0c676b1": {
      "model_module": "@jupyter-widgets/base",
      "model_module_version": "1.2.0",
      "model_name": "LayoutModel",
      "state": {
       "width": "190px"
      }
     },
     "a8bf8147fcff44a197e9a41b1e078b5a": {
      "model_module": "@jupyter-widgets/controls",
      "model_module_version": "1.5.0",
      "model_name": "DescriptionStyleModel",
      "state": {
       "description_width": ""
      }
     },
     "bf58467e7a90411694153bb67c4ad5eb": {
      "model_module": "@jupyter-widgets/controls",
      "model_module_version": "1.5.0",
      "model_name": "DescriptionStyleModel",
      "state": {
       "description_width": ""
      }
     },
     "c85750a0e35c40fa982c9440edd29394": {
      "model_module": "@jupyter-widgets/controls",
      "model_module_version": "1.5.0",
      "model_name": "GridBoxModel",
      "state": {
       "children": [
        "IPY_MODEL_706b0a2b90cb41aab54f8ca78f1f2c0b"
       ],
       "layout": "IPY_MODEL_4990b308f5214740a00b262edfdf2313"
      }
     },
     "cfb8c9ab384b4a95bbacb09f4bab431d": {
      "model_module": "@jupyter-widgets/base",
      "model_module_version": "1.2.0",
      "model_name": "LayoutModel",
      "state": {
       "grid_area": "right",
       "padding": "0px 0px 0px 0px",
       "width": "70px"
      }
     },
     "e00884fbc8c84047aeb8dbc15656212a": {
      "model_module": "@jupyter-widgets/controls",
      "model_module_version": "1.5.0",
      "model_name": "DescriptionStyleModel",
      "state": {
       "description_width": ""
      }
     },
     "e540761c47d04f87a283bf27cf2fe5d3": {
      "model_module": "@jupyter-widgets/controls",
      "model_module_version": "1.5.0",
      "model_name": "HTMLModel",
      "state": {
       "layout": "IPY_MODEL_186ed65b68bf4a5fba34e31874056e01",
       "style": "IPY_MODEL_f74f501dd9fc458c93cb8345e4be7202",
       "value": "<h5>Backend</h5>"
      }
     },
     "f4125db7ea0d436da58c64744c35124e": {
      "model_module": "@jupyter-widgets/base",
      "model_module_version": "1.2.0",
      "model_name": "LayoutModel",
      "state": {}
     },
     "f4e80ae4e69341ffb17070e546a330b6": {
      "model_module": "@jupyter-widgets/controls",
      "model_module_version": "1.5.0",
      "model_name": "DescriptionStyleModel",
      "state": {
       "description_width": ""
      }
     },
     "f74f501dd9fc458c93cb8345e4be7202": {
      "model_module": "@jupyter-widgets/controls",
      "model_module_version": "1.5.0",
      "model_name": "DescriptionStyleModel",
      "state": {
       "description_width": ""
      }
     },
     "fa62eb2c50d948f187672e09013600b4": {
      "model_module": "@jupyter-widgets/controls",
      "model_module_version": "1.5.0",
      "model_name": "HTMLModel",
      "state": {
       "layout": "IPY_MODEL_f4125db7ea0d436da58c64744c35124e",
       "style": "IPY_MODEL_a8bf8147fcff44a197e9a41b1e078b5a",
       "value": "<h5>Message</h5>"
      }
     }
    },
    "version_major": 2,
    "version_minor": 0
   }
  }
 },
 "nbformat": 4,
 "nbformat_minor": 5
}
